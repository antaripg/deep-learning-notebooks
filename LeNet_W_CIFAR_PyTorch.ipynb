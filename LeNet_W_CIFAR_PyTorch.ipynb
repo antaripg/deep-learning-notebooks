{
  "nbformat": 4,
  "nbformat_minor": 0,
  "metadata": {
    "colab": {
      "provenance": [],
      "authorship_tag": "ABX9TyPT6Z14dPn5uCxH+0u0RBbx",
      "include_colab_link": true
    },
    "kernelspec": {
      "name": "python3",
      "display_name": "Python 3"
    },
    "language_info": {
      "name": "python"
    },
    "accelerator": "GPU",
    "widgets": {
      "application/vnd.jupyter.widget-state+json": {
        "64ab0ff272554098929a4fa9798df4a5": {
          "model_module": "@jupyter-widgets/controls",
          "model_name": "HBoxModel",
          "model_module_version": "1.5.0",
          "state": {
            "_view_name": "HBoxView",
            "_dom_classes": [],
            "_model_name": "HBoxModel",
            "_view_module": "@jupyter-widgets/controls",
            "_model_module_version": "1.5.0",
            "_view_count": null,
            "_view_module_version": "1.5.0",
            "box_style": "",
            "layout": "IPY_MODEL_930ec8a5a6e647418a5c9e26cfb6c6ca",
            "_model_module": "@jupyter-widgets/controls",
            "children": [
              "IPY_MODEL_06dffb7f858d43e89bdccec278dd607a",
              "IPY_MODEL_2c3b0083c8344a668709fa9e06206584",
              "IPY_MODEL_d48005b984e54d79b24c11b53c3c81b0"
            ]
          }
        },
        "930ec8a5a6e647418a5c9e26cfb6c6ca": {
          "model_module": "@jupyter-widgets/base",
          "model_name": "LayoutModel",
          "model_module_version": "1.2.0",
          "state": {
            "_view_name": "LayoutView",
            "grid_template_rows": null,
            "right": null,
            "justify_content": null,
            "_view_module": "@jupyter-widgets/base",
            "overflow": null,
            "_model_module_version": "1.2.0",
            "_view_count": null,
            "flex_flow": null,
            "width": null,
            "min_width": null,
            "border": null,
            "align_items": null,
            "bottom": null,
            "_model_module": "@jupyter-widgets/base",
            "top": null,
            "grid_column": null,
            "overflow_y": null,
            "overflow_x": null,
            "grid_auto_flow": null,
            "grid_area": null,
            "grid_template_columns": null,
            "flex": null,
            "_model_name": "LayoutModel",
            "justify_items": null,
            "grid_row": null,
            "max_height": null,
            "align_content": null,
            "visibility": null,
            "align_self": null,
            "height": null,
            "min_height": null,
            "padding": null,
            "grid_auto_rows": null,
            "grid_gap": null,
            "max_width": null,
            "order": null,
            "_view_module_version": "1.2.0",
            "grid_template_areas": null,
            "object_position": null,
            "object_fit": null,
            "grid_auto_columns": null,
            "margin": null,
            "display": null,
            "left": null
          }
        },
        "06dffb7f858d43e89bdccec278dd607a": {
          "model_module": "@jupyter-widgets/controls",
          "model_name": "HTMLModel",
          "model_module_version": "1.5.0",
          "state": {
            "_view_name": "HTMLView",
            "style": "IPY_MODEL_68fca5b726484abb94b0831f88667c71",
            "_dom_classes": [],
            "description": "",
            "_model_name": "HTMLModel",
            "placeholder": "​",
            "_view_module": "@jupyter-widgets/controls",
            "_model_module_version": "1.5.0",
            "value": "",
            "_view_count": null,
            "_view_module_version": "1.5.0",
            "description_tooltip": null,
            "_model_module": "@jupyter-widgets/controls",
            "layout": "IPY_MODEL_82165cffca3e4a8588ebebd1f1b9aa9f"
          }
        },
        "2c3b0083c8344a668709fa9e06206584": {
          "model_module": "@jupyter-widgets/controls",
          "model_name": "FloatProgressModel",
          "model_module_version": "1.5.0",
          "state": {
            "_view_name": "ProgressView",
            "style": "IPY_MODEL_d402afdc8c414fe29e2d331e9fb15314",
            "_dom_classes": [],
            "description": "",
            "_model_name": "FloatProgressModel",
            "bar_style": "success",
            "max": 170498071,
            "_view_module": "@jupyter-widgets/controls",
            "_model_module_version": "1.5.0",
            "value": 170498071,
            "_view_count": null,
            "_view_module_version": "1.5.0",
            "orientation": "horizontal",
            "min": 0,
            "description_tooltip": null,
            "_model_module": "@jupyter-widgets/controls",
            "layout": "IPY_MODEL_8bbfe0f1e3b445f7b5ef1e8b5e823419"
          }
        },
        "d48005b984e54d79b24c11b53c3c81b0": {
          "model_module": "@jupyter-widgets/controls",
          "model_name": "HTMLModel",
          "model_module_version": "1.5.0",
          "state": {
            "_view_name": "HTMLView",
            "style": "IPY_MODEL_91dced586ace4cf290eef285078bba89",
            "_dom_classes": [],
            "description": "",
            "_model_name": "HTMLModel",
            "placeholder": "​",
            "_view_module": "@jupyter-widgets/controls",
            "_model_module_version": "1.5.0",
            "value": " 170499072/? [00:03&lt;00:00, 55436390.38it/s]",
            "_view_count": null,
            "_view_module_version": "1.5.0",
            "description_tooltip": null,
            "_model_module": "@jupyter-widgets/controls",
            "layout": "IPY_MODEL_e322d0247a4544b7b8188c1faca15479"
          }
        },
        "68fca5b726484abb94b0831f88667c71": {
          "model_module": "@jupyter-widgets/controls",
          "model_name": "DescriptionStyleModel",
          "model_module_version": "1.5.0",
          "state": {
            "_view_name": "StyleView",
            "_model_name": "DescriptionStyleModel",
            "description_width": "",
            "_view_module": "@jupyter-widgets/base",
            "_model_module_version": "1.5.0",
            "_view_count": null,
            "_view_module_version": "1.2.0",
            "_model_module": "@jupyter-widgets/controls"
          }
        },
        "82165cffca3e4a8588ebebd1f1b9aa9f": {
          "model_module": "@jupyter-widgets/base",
          "model_name": "LayoutModel",
          "model_module_version": "1.2.0",
          "state": {
            "_view_name": "LayoutView",
            "grid_template_rows": null,
            "right": null,
            "justify_content": null,
            "_view_module": "@jupyter-widgets/base",
            "overflow": null,
            "_model_module_version": "1.2.0",
            "_view_count": null,
            "flex_flow": null,
            "width": null,
            "min_width": null,
            "border": null,
            "align_items": null,
            "bottom": null,
            "_model_module": "@jupyter-widgets/base",
            "top": null,
            "grid_column": null,
            "overflow_y": null,
            "overflow_x": null,
            "grid_auto_flow": null,
            "grid_area": null,
            "grid_template_columns": null,
            "flex": null,
            "_model_name": "LayoutModel",
            "justify_items": null,
            "grid_row": null,
            "max_height": null,
            "align_content": null,
            "visibility": null,
            "align_self": null,
            "height": null,
            "min_height": null,
            "padding": null,
            "grid_auto_rows": null,
            "grid_gap": null,
            "max_width": null,
            "order": null,
            "_view_module_version": "1.2.0",
            "grid_template_areas": null,
            "object_position": null,
            "object_fit": null,
            "grid_auto_columns": null,
            "margin": null,
            "display": null,
            "left": null
          }
        },
        "d402afdc8c414fe29e2d331e9fb15314": {
          "model_module": "@jupyter-widgets/controls",
          "model_name": "ProgressStyleModel",
          "model_module_version": "1.5.0",
          "state": {
            "_view_name": "StyleView",
            "_model_name": "ProgressStyleModel",
            "description_width": "",
            "_view_module": "@jupyter-widgets/base",
            "_model_module_version": "1.5.0",
            "_view_count": null,
            "_view_module_version": "1.2.0",
            "bar_color": null,
            "_model_module": "@jupyter-widgets/controls"
          }
        },
        "8bbfe0f1e3b445f7b5ef1e8b5e823419": {
          "model_module": "@jupyter-widgets/base",
          "model_name": "LayoutModel",
          "model_module_version": "1.2.0",
          "state": {
            "_view_name": "LayoutView",
            "grid_template_rows": null,
            "right": null,
            "justify_content": null,
            "_view_module": "@jupyter-widgets/base",
            "overflow": null,
            "_model_module_version": "1.2.0",
            "_view_count": null,
            "flex_flow": null,
            "width": null,
            "min_width": null,
            "border": null,
            "align_items": null,
            "bottom": null,
            "_model_module": "@jupyter-widgets/base",
            "top": null,
            "grid_column": null,
            "overflow_y": null,
            "overflow_x": null,
            "grid_auto_flow": null,
            "grid_area": null,
            "grid_template_columns": null,
            "flex": null,
            "_model_name": "LayoutModel",
            "justify_items": null,
            "grid_row": null,
            "max_height": null,
            "align_content": null,
            "visibility": null,
            "align_self": null,
            "height": null,
            "min_height": null,
            "padding": null,
            "grid_auto_rows": null,
            "grid_gap": null,
            "max_width": null,
            "order": null,
            "_view_module_version": "1.2.0",
            "grid_template_areas": null,
            "object_position": null,
            "object_fit": null,
            "grid_auto_columns": null,
            "margin": null,
            "display": null,
            "left": null
          }
        },
        "91dced586ace4cf290eef285078bba89": {
          "model_module": "@jupyter-widgets/controls",
          "model_name": "DescriptionStyleModel",
          "model_module_version": "1.5.0",
          "state": {
            "_view_name": "StyleView",
            "_model_name": "DescriptionStyleModel",
            "description_width": "",
            "_view_module": "@jupyter-widgets/base",
            "_model_module_version": "1.5.0",
            "_view_count": null,
            "_view_module_version": "1.2.0",
            "_model_module": "@jupyter-widgets/controls"
          }
        },
        "e322d0247a4544b7b8188c1faca15479": {
          "model_module": "@jupyter-widgets/base",
          "model_name": "LayoutModel",
          "model_module_version": "1.2.0",
          "state": {
            "_view_name": "LayoutView",
            "grid_template_rows": null,
            "right": null,
            "justify_content": null,
            "_view_module": "@jupyter-widgets/base",
            "overflow": null,
            "_model_module_version": "1.2.0",
            "_view_count": null,
            "flex_flow": null,
            "width": null,
            "min_width": null,
            "border": null,
            "align_items": null,
            "bottom": null,
            "_model_module": "@jupyter-widgets/base",
            "top": null,
            "grid_column": null,
            "overflow_y": null,
            "overflow_x": null,
            "grid_auto_flow": null,
            "grid_area": null,
            "grid_template_columns": null,
            "flex": null,
            "_model_name": "LayoutModel",
            "justify_items": null,
            "grid_row": null,
            "max_height": null,
            "align_content": null,
            "visibility": null,
            "align_self": null,
            "height": null,
            "min_height": null,
            "padding": null,
            "grid_auto_rows": null,
            "grid_gap": null,
            "max_width": null,
            "order": null,
            "_view_module_version": "1.2.0",
            "grid_template_areas": null,
            "object_position": null,
            "object_fit": null,
            "grid_auto_columns": null,
            "margin": null,
            "display": null,
            "left": null
          }
        }
      }
    }
  },
  "cells": [
    {
      "cell_type": "markdown",
      "metadata": {
        "id": "view-in-github",
        "colab_type": "text"
      },
      "source": [
        "<a href=\"https://colab.research.google.com/github/antaripg/deep-learning-notebooks/blob/main/LeNet_W_CIFAR_PyTorch.ipynb\" target=\"_parent\"><img src=\"https://colab.research.google.com/assets/colab-badge.svg\" alt=\"Open In Colab\"/></a>"
      ]
    },
    {
      "cell_type": "code",
      "metadata": {
        "id": "xK6wGdAC2N9N"
      },
      "source": [
        "gpu_info = !nvidia-smi\n",
        "gpu_info = '\\n'.join(gpu_info)\n",
        "if gpu_info.find('failed') >= 0:\n",
        "  print('Select the Runtime > \"Change runtime type\" menu to enable a GPU accelerator, ')\n",
        "  print('and then re-execute this cell.')\n",
        "else:\n",
        "  print(gpu_info)\n",
        "\n",
        "from psutil import virtual_memory\n",
        "ram_gb = virtual_memory().total / 1e9\n",
        "print('Your runtime has {:.1f} gigabytes of available RAM\\n'.format(ram_gb))\n",
        "\n",
        "if ram_gb < 20:\n",
        "  print('To enable a high-RAM runtime, select the Runtime > \"Change runtime type\"')\n",
        "  print('menu, and then select High-RAM in the Runtime shape dropdown. Then, ')\n",
        "  print('re-execute this cell.')\n",
        "else:\n",
        "  print('You are using a high-RAM runtime!')"
      ],
      "execution_count": null,
      "outputs": []
    },
    {
      "cell_type": "code",
      "metadata": {
        "id": "BjeC9nTR9cSF"
      },
      "source": [
        "# from google.colab import drive\n",
        "# drive.mount(\"/content/drive/\", force_remount=True)"
      ],
      "execution_count": null,
      "outputs": []
    },
    {
      "cell_type": "code",
      "metadata": {
        "id": "whFNBgFUJ-TT"
      },
      "source": [
        "%matplotlib inline\n",
        "import torch\n",
        "import torch.nn as nn\n",
        "import torch.nn.functional as F\n",
        "import numpy as np\n",
        "from torchvision import transforms, datasets\n",
        "import torch.optim as optim\n",
        "from torch.autograd import Variable\n",
        "import matplotlib.pyplot as plt\n",
        "import torchvision\n",
        "\n",
        "import copy\n",
        "import time"
      ],
      "execution_count": null,
      "outputs": []
    },
    {
      "cell_type": "code",
      "metadata": {
        "colab": {
          "base_uri": "https://localhost:8080/",
          "height": 104,
          "referenced_widgets": [
            "64ab0ff272554098929a4fa9798df4a5",
            "930ec8a5a6e647418a5c9e26cfb6c6ca",
            "06dffb7f858d43e89bdccec278dd607a",
            "2c3b0083c8344a668709fa9e06206584",
            "d48005b984e54d79b24c11b53c3c81b0",
            "68fca5b726484abb94b0831f88667c71",
            "82165cffca3e4a8588ebebd1f1b9aa9f",
            "d402afdc8c414fe29e2d331e9fb15314",
            "8bbfe0f1e3b445f7b5ef1e8b5e823419",
            "91dced586ace4cf290eef285078bba89",
            "e322d0247a4544b7b8188c1faca15479"
          ]
        },
        "id": "-ArIGbT7KAPF",
        "outputId": "90c4eb14-0eff-4ed9-ef94-ed12691f8136"
      },
      "source": [
        "apply_transform = transforms.Compose([transforms.Resize(32), transforms.ToTensor()])\n",
        "batch_size = 100\n",
        "\n",
        "train_set = datasets.CIFAR10(root='./CIFAR10', train=True, download=True,\n",
        "                          transform=apply_transform)\n",
        "train_loader = torch.utils.data.DataLoader(train_set, batch_size=batch_size,\n",
        "                                           shuffle=True, num_workers=1)\n",
        "\n",
        "test_set = datasets.CIFAR10(root='./CIFAR10', train=False, download=True,\n",
        "                          transform=apply_transform)\n",
        "test_loader = torch.utils.data.DataLoader(test_set, batch_size=batch_size,\n",
        "                                          shuffle=True, num_workers=1)"
      ],
      "execution_count": null,
      "outputs": [
        {
          "output_type": "stream",
          "text": [
            "Downloading https://www.cs.toronto.edu/~kriz/cifar-10-python.tar.gz to ./CIFAR10/cifar-10-python.tar.gz\n"
          ],
          "name": "stdout"
        },
        {
          "output_type": "display_data",
          "data": {
            "application/vnd.jupyter.widget-view+json": {
              "model_id": "64ab0ff272554098929a4fa9798df4a5",
              "version_minor": 0,
              "version_major": 2
            },
            "text/plain": [
              "  0%|          | 0/170498071 [00:00<?, ?it/s]"
            ]
          },
          "metadata": {}
        },
        {
          "output_type": "stream",
          "text": [
            "Extracting ./CIFAR10/cifar-10-python.tar.gz to ./CIFAR10\n",
            "Files already downloaded and verified\n"
          ],
          "name": "stdout"
        }
      ]
    },
    {
      "cell_type": "code",
      "metadata": {
        "colab": {
          "base_uri": "https://localhost:8080/"
        },
        "id": "B5TdTCxnN2Y5",
        "outputId": "4c9f6cd3-6462-4dbb-a088-3b822f331cf3"
      },
      "source": [
        "img = next(iter(train_loader))\n",
        "img[0].shape"
      ],
      "execution_count": null,
      "outputs": [
        {
          "output_type": "execute_result",
          "data": {
            "text/plain": [
              "torch.Size([100, 3, 32, 32])"
            ]
          },
          "metadata": {},
          "execution_count": 11
        }
      ]
    },
    {
      "cell_type": "code",
      "metadata": {
        "id": "KVGtVsHGKx0f"
      },
      "source": [
        "img = next(iter(train_loader))\n",
        "plt.imshow(img[0][0].reshape(32,32,3))"
      ],
      "execution_count": null,
      "outputs": []
    },
    {
      "cell_type": "code",
      "metadata": {
        "id": "BIoIx-Z6KCWH"
      },
      "source": [
        "class LeNet(nn.Module):\n",
        "  def __init__(self):\n",
        "    super(LeNet, self).__init__()\n",
        "    self.conv1 = nn.Conv2d(3, 6, kernel_size=5)\n",
        "    self.pool1 = nn.MaxPool2d(kernel_size=2, stride=2)\n",
        "    self.conv2 = nn.Conv2d(6, 16, kernel_size=5)\n",
        "    self.pool2 = nn.MaxPool2d(kernel_size=2, stride=2)\n",
        "    self.fc1 = nn.Linear(400, 120)\n",
        "    self.fc2 = nn.Linear(120, 84)\n",
        "    self.fc3 = nn.Linear(84, 10)\n",
        "\n",
        "  def forward(self, x):\n",
        "    x = F.relu(self.conv1(x))\n",
        "    x = self.pool1(x)\n",
        "    x = F.relu(self.conv2(x))\n",
        "    x = self.pool2(x)\n",
        "    x = x.view(-1, 400) # 16 x 5 x 5\n",
        "    x = F.relu(self.fc1(x))\n",
        "    x = F.relu(self.fc2(x))\n",
        "    x = self.fc3(x)\n",
        "    return F.log_softmax(x, dim=1) # multi-class classification"
      ],
      "execution_count": null,
      "outputs": []
    },
    {
      "cell_type": "code",
      "metadata": {
        "colab": {
          "base_uri": "https://localhost:8080/"
        },
        "id": "wugpEKPzKE7u",
        "outputId": "ac581651-5d22-43c0-e40b-6b94234be78c"
      },
      "source": [
        "net = LeNet()\n",
        "print(net)"
      ],
      "execution_count": null,
      "outputs": [
        {
          "output_type": "stream",
          "text": [
            "LeNet(\n",
            "  (conv1): Conv2d(3, 6, kernel_size=(5, 5), stride=(1, 1))\n",
            "  (pool1): MaxPool2d(kernel_size=2, stride=2, padding=0, dilation=1, ceil_mode=False)\n",
            "  (conv2): Conv2d(6, 16, kernel_size=(5, 5), stride=(1, 1))\n",
            "  (pool2): MaxPool2d(kernel_size=2, stride=2, padding=0, dilation=1, ceil_mode=False)\n",
            "  (fc1): Linear(in_features=400, out_features=120, bias=True)\n",
            "  (fc2): Linear(in_features=120, out_features=84, bias=True)\n",
            "  (fc3): Linear(in_features=84, out_features=10, bias=True)\n",
            ")\n"
          ],
          "name": "stdout"
        }
      ]
    },
    {
      "cell_type": "code",
      "metadata": {
        "id": "ZgciXqaKKG3v"
      },
      "source": [
        "# Copying initial weights\n",
        "init_weight_conv1 = copy.deepcopy(net.conv1.weight.data)\n",
        "init_weight_conv2 = copy.deepcopy(net.conv2.weight.data)"
      ],
      "execution_count": null,
      "outputs": []
    },
    {
      "cell_type": "code",
      "metadata": {
        "colab": {
          "base_uri": "https://localhost:8080/"
        },
        "id": "vg2VASG5KIiN",
        "outputId": "c8b5a50e-8762-40f5-ed61-79f944adcd3d"
      },
      "source": [
        "# check availability of GPU\n",
        "\n",
        "use_gpu = torch.cuda.is_available()\n",
        "if use_gpu:\n",
        "  print('GPU is available')\n",
        "  device = 'cuda'\n",
        "  print('We are running on: '+str(device))\n",
        "else:\n",
        "  print('GPU is not available')\n",
        "  device = 'cpu'\n",
        "  print('We are running on: '+str(device))\n",
        "net = net.to(device)"
      ],
      "execution_count": null,
      "outputs": [
        {
          "output_type": "stream",
          "text": [
            "GPU is available\n",
            "We are running on: cuda\n"
          ],
          "name": "stdout"
        }
      ]
    },
    {
      "cell_type": "code",
      "metadata": {
        "id": "5EvEScZlKKWA"
      },
      "source": [
        "# defining loss function and optimizer\n",
        "\n",
        "criterion = nn.NLLLoss() # negative log-likelihood\n",
        "optimizer = optim.Adam(net.parameters(), lr=1e-4) # Adam optimizers"
      ],
      "execution_count": null,
      "outputs": []
    },
    {
      "cell_type": "code",
      "metadata": {
        "id": "_u5byHjxKNRW"
      },
      "source": [
        "# Train the network\n",
        "\n",
        "iterations = 10\n",
        "train_loss = []\n",
        "test_acc = []\n",
        "start = time.time()\n",
        "\n",
        "for epoch in range(iterations):\n",
        "  epoch_start = time.time()\n",
        "  running_loss  = 0\n",
        "  net.train() # For training\n",
        "\n",
        "  for i, data in enumerate(train_loader):\n",
        "    inputs, labels  = data\n",
        "    # Wrap them in a Variable\n",
        "    inputs, labels = inputs.to(device), labels.to(device)\n",
        "    # Initialize gradients to zero\n",
        "    optimizer.zero_grad()\n",
        "    # Feed-forward input data through the network\n",
        "    outputs = net(inputs)\n",
        "    # loss calculations\n",
        "    loss = criterion(outputs, labels)\n",
        "    # backpropagate loss and compute gradients\n",
        "    loss.backward()\n",
        "    # update th network parameters\n",
        "    optimizer.step()\n",
        "    # Accumulate loss per batch\n",
        "    running_loss += loss.item()\n",
        "  # Average training loss\n",
        "  average_train_loss = running_loss/(i+1)\n",
        "  train_loss.append(average_train_loss)\n",
        "\n",
        "  # Evaluating performance at end of each epoch\n",
        "  net.eval() # for testing [affects of batch-norm/dropout layers are not considered]\n",
        "  running_correct = 0\n",
        "  with torch.no_grad():\n",
        "    for data in test_loader:\n",
        "      inputs, labels = data\n",
        "      inputs = inputs.to(device)\n",
        "      outputs = net(inputs)\n",
        "      _, predicted = torch.max(outputs.data, 1)\n",
        "      if use_gpu:\n",
        "        predicted = predicted.cpu()\n",
        "      running_correct += (predicted == labels).sum()\n",
        "  average_test_acc = running_correct/10000.0\n",
        "  test_acc.append(average_test_acc)\n",
        "\n",
        "  # Plotting training loss  vs Epochs\n",
        "\n",
        "  fig1 = plt.figure(1)\n",
        "  plt.plot(range(epoch+1), train_loss, 'r--', label='train')\n",
        "  if epoch == 0:\n",
        "    plt.legend(loc = 'upper left')\n",
        "    plt.xlabel('Epochs')\n",
        "    plt.ylabel('Training Loss')\n",
        "\n",
        "  # Plotting testing accuracy vs Epochs\n",
        "\n",
        "  fig2 = plt.figure(2)\n",
        "  plt.plot(range(epoch+1), test_acc, 'g--', label = 'test')\n",
        "  if epoch == 0:\n",
        "    plt.legend(loc = 'upper left')\n",
        "    plt.xlabel('Epochs')\n",
        "    plt.ylabel('Testing accuracy')\n",
        "  epoch_end = time.time() - epoch_start\n",
        "  print('Iteration: {:.0f}/{:.0f}; Training loss: {:.6f}; Testing Accuracy: {:.6f};Time consumed: {:.0f}m {:.0f}s'\n",
        "        .format(epoch+1, iterations,average_train_loss, average_test_acc*100,\n",
        "                epoch_end//60,epoch_end%60))\n",
        "end = time.time() - start\n",
        "print('Training completed in {:.0f}m {:0f}s'.format(end//60, end%60))"
      ],
      "execution_count": null,
      "outputs": []
    },
    {
      "cell_type": "code",
      "metadata": {
        "id": "C9VDz9PQPRio"
      },
      "source": [
        "img = next(iter(test_loader))\n",
        "image = img[0]"
      ],
      "execution_count": null,
      "outputs": []
    },
    {
      "cell_type": "code",
      "metadata": {
        "colab": {
          "base_uri": "https://localhost:8080/"
        },
        "id": "iWOAgKphO-v2",
        "outputId": "a9322bf5-2fb7-49c7-8491-d503fca45d82"
      },
      "source": [
        "predictions = []\n",
        "net.eval()\n",
        "running_correct = 0\n",
        "with torch.no_grad():\n",
        "    for data in test_loader:\n",
        "      inputs, labels = data\n",
        "      inputs = inputs.to(device)\n",
        "      outputs = net(inputs)\n",
        "      _, predicted = torch.max(outputs.data, 1)\n",
        "      if use_gpu:\n",
        "        predicted = predicted.cpu()\n",
        "      predictions.append(predicted)\n",
        "print(len(predictions))"
      ],
      "execution_count": null,
      "outputs": [
        {
          "output_type": "stream",
          "text": [
            "100\n"
          ],
          "name": "stdout"
        }
      ]
    },
    {
      "cell_type": "code",
      "metadata": {
        "id": "4Hg0DrMrQVjV"
      },
      "source": [
        "predictions[0]"
      ],
      "execution_count": null,
      "outputs": []
    },
    {
      "cell_type": "code",
      "metadata": {
        "id": "jcEVPA3NKPPO"
      },
      "source": [
        "# Copying the trained weights for visualization\n",
        "trained_weight_conv1 = copy.deepcopy(net.conv1.weight.data)\n",
        "trained_weight_conv2 = copy.deepcopy(net.conv2.weight.data)"
      ],
      "execution_count": null,
      "outputs": []
    },
    {
      "cell_type": "code",
      "metadata": {
        "id": "4XLn1D9wKQvJ"
      },
      "source": [
        "# functions to show an image\n",
        "def imshow(img, strlabel):\n",
        "  np_img = img.numpy()\n",
        "  np_img = np.abs(np_img)\n",
        "  fig_size = plt.rcParams[\"figure.figsize\"]\n",
        "  fig_size[0] = 10\n",
        "  fig_size[1] = 10\n",
        "  plt.rcParams[\"figure.figsize\"] = fig_size\n",
        "  plt.figure()\n",
        "  plt.title(strlabel)\n",
        "  plt.imshow(np.transpose(np_img, (1, 2, 0)))"
      ],
      "execution_count": null,
      "outputs": []
    },
    {
      "cell_type": "code",
      "metadata": {
        "colab": {
          "base_uri": "https://localhost:8080/",
          "height": 983
        },
        "id": "PMm7CuN2KT_o",
        "outputId": "3bbc6d29-09bd-4520-f990-b1fa65107551"
      },
      "source": [
        "if use_gpu:\n",
        "  trained_weight_conv1 = trained_weight_conv1.cpu()\n",
        "  trained_weight_conv2 = trained_weight_conv2.cpu()\n",
        "\n",
        "# Visualizing all the kernels weights: their initial, trained and diff\n",
        "imshow(torchvision.utils.make_grid(init_weight_conv1, nrow=6, normalize=True), 'Initial Weights: conv1')\n",
        "imshow(torchvision.utils.make_grid(trained_weight_conv1, nrow=6, normalize=True), 'Trained Weights: conv1')\n",
        "imshow(torchvision.utils.make_grid(init_weight_conv1 - trained_weight_conv1, nrow=6, normalize=True),\n",
        "       'Differece in Weights: conv1')\n",
        "# Visualizing one of the kernels in conv2 layer weights: initial, trained and diff\n",
        "imshow(torchvision.utils.make_grid(init_weight_conv2[0].unsqueeze(1),nrow=6,normalize=True),'Initial Weights: conv2(1)')\n",
        "imshow(torchvision.utils.make_grid(trained_weight_conv2[0].unsqueeze(1),nrow=6,normalize=True),'Trained Weights: conv2(1)')\n",
        "imshow(torchvision.utils.make_grid(init_weight_conv2[0].unsqueeze(1)-trained_weight_conv2[0].unsqueeze(1),nrow=6,normalize=True),'Difference of weights: conv2(1)')\n"
      ],
      "execution_count": null,
      "outputs": [
        {
          "output_type": "display_data",
          "data": {
            "image/png": "[encoded data removed]",
            "text/plain": [
              "<Figure size 720x720 with 1 Axes>"
            ]
          },
          "metadata": {
            "needs_background": "light"
          }
        },
        {
          "output_type": "display_data",
          "data": {
            "image/png": "[encoded data removed]",
            "text/plain": [
              "<Figure size 720x720 with 1 Axes>"
            ]
          },
          "metadata": {
            "needs_background": "light"
          }
        },
        {
          "output_type": "display_data",
          "data": {
            "image/png": "[encoded data removed]",
            "text/plain": [
              "<Figure size 720x720 with 1 Axes>"
            ]
          },
          "metadata": {
            "needs_background": "light"
          }
        },
        {
          "output_type": "display_data",
          "data": {
            "image/png": "[encoded data removed]",
            "text/plain": [
              "<Figure size 720x720 with 1 Axes>"
            ]
          },
          "metadata": {
            "needs_background": "light"
          }
        },
        {
          "output_type": "display_data",
          "data": {
            "image/png": "[encoded data removed]",
            "text/plain": [
              "<Figure size 720x720 with 1 Axes>"
            ]
          },
          "metadata": {
            "needs_background": "light"
          }
        },
        {
          "output_type": "display_data",
          "data": {
            "image/png": "[encoded data removed]",
            "text/plain": [
              "<Figure size 720x720 with 1 Axes>"
            ]
          },
          "metadata": {
            "needs_background": "light"
          }
        }
      ]
    }
  ]
}