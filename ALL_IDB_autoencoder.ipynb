{
  "nbformat": 4,
  "nbformat_minor": 0,
  "metadata": {
    "colab": {
      "provenance": [],
      "authorship_tag": "ABX9TyNekfwCIfm7qvniJ3A6RKhB",
      "include_colab_link": true
    },
    "kernelspec": {
      "name": "python3",
      "display_name": "Python 3"
    },
    "language_info": {
      "name": "python"
    },
    "accelerator": "GPU"
  },
  "cells": [
    {
      "cell_type": "markdown",
      "metadata": {
        "id": "view-in-github",
        "colab_type": "text"
      },
      "source": [
        "<a href=\"https://colab.research.google.com/github/antaripg/deep-learning-notebooks/blob/main/ALL_IDB_autoencoder.ipynb\" target=\"_parent\"><img src=\"https://colab.research.google.com/assets/colab-badge.svg\" alt=\"Open In Colab\"/></a>"
      ]
    },
    {
      "cell_type": "markdown",
      "metadata": {
        "id": "tltRsKjCTsjs"
      },
      "source": [
        "### Checking for GPU"
      ]
    },
    {
      "cell_type": "code",
      "metadata": {
        "colab": {
          "base_uri": "https://localhost:8080/"
        },
        "id": "FAzYJZaZTZEW",
        "outputId": "395dbda6-943a-4bd5-d37d-f2631f59b691"
      },
      "source": [
        "gpu_info = !nvidia-smi\n",
        "gpu_info = '\\n'.join(gpu_info)\n",
        "if gpu_info.find('failed') >= 0:\n",
        "  print('Select the Runtime > \"Change runtime type\" menu to enable a GPU accelerator, ')\n",
        "  print('and then re-execute this cell.')\n",
        "else:\n",
        "  print(gpu_info)\n",
        "\n",
        "from psutil import virtual_memory\n",
        "ram_gb = virtual_memory().total / 1e9\n",
        "print('Your runtime has {:.1f} gigabytes of available RAM\\n'.format(ram_gb))\n",
        "\n",
        "if ram_gb < 20:\n",
        "  print('To enable a high-RAM runtime, select the Runtime > \"Change runtime type\"')\n",
        "  print('menu, and then select High-RAM in the Runtime shape dropdown. Then, ')\n",
        "  print('re-execute this cell.')\n",
        "else:\n",
        "  print('You are using a high-RAM runtime!')"
      ],
      "execution_count": null,
      "outputs": [
        {
          "output_type": "stream",
          "text": [
            "Thu Jul  1 06:36:40 2021       \n",
            "+-----------------------------------------------------------------------------+\n",
            "| NVIDIA-SMI 465.27       Driver Version: 460.32.03    CUDA Version: 11.2     |\n",
            "|-------------------------------+----------------------+----------------------+\n",
            "| GPU  Name        Persistence-M| Bus-Id        Disp.A | Volatile Uncorr. ECC |\n",
            "| Fan  Temp  Perf  Pwr:Usage/Cap|         Memory-Usage | GPU-Util  Compute M. |\n",
            "|                               |                      |               MIG M. |\n",
            "|===============================+======================+======================|\n",
            "|   0  Tesla T4            Off  | 00000000:00:04.0 Off |                    0 |\n",
            "| N/A   46C    P8     9W /  70W |      0MiB / 15109MiB |      0%      Default |\n",
            "|                               |                      |                  N/A |\n",
            "+-------------------------------+----------------------+----------------------+\n",
            "                                                                               \n",
            "+-----------------------------------------------------------------------------+\n",
            "| Processes:                                                                  |\n",
            "|  GPU   GI   CI        PID   Type   Process name                  GPU Memory |\n",
            "|        ID   ID                                                   Usage      |\n",
            "|=============================================================================|\n",
            "|  No running processes found                                                 |\n",
            "+-----------------------------------------------------------------------------+\n",
            "Your runtime has 13.6 gigabytes of available RAM\n",
            "\n",
            "To enable a high-RAM runtime, select the Runtime > \"Change runtime type\"\n",
            "menu, and then select High-RAM in the Runtime shape dropdown. Then, \n",
            "re-execute this cell.\n"
          ],
          "name": "stdout"
        }
      ]
    },
    {
      "cell_type": "markdown",
      "metadata": {
        "id": "h79PnFvGTwAD"
      },
      "source": [
        "### Mounting the google Drive"
      ]
    },
    {
      "cell_type": "code",
      "metadata": {
        "colab": {
          "base_uri": "https://localhost:8080/"
        },
        "id": "Vt_UQOUyTrj6",
        "outputId": "a0a76dd6-c475-4d0b-83a1-702ff757aa55"
      },
      "source": [
        "from google.colab import drive\n",
        "\n",
        "drive.mount(\"/content/drive/\", force_remount=True)"
      ],
      "execution_count": null,
      "outputs": [
        {
          "output_type": "stream",
          "text": [
            "Mounted at /content/drive/\n"
          ],
          "name": "stdout"
        }
      ]
    },
    {
      "cell_type": "markdown",
      "metadata": {
        "id": "5ntka_shUiBk"
      },
      "source": [
        "### Installing the necessary packages"
      ]
    },
    {
      "cell_type": "code",
      "metadata": {
        "colab": {
          "base_uri": "https://localhost:8080/"
        },
        "id": "pFlZOceQUl7P",
        "outputId": "3ed208ce-a51b-446a-b00e-90957abb7626"
      },
      "source": [
        "%matplotlib inline\n",
        "import os\n",
        "import copy\n",
        "import torch\n",
        "import random\n",
        "import numpy as np\n",
        "import torch.nn as nn\n",
        "from PIL import Image\n",
        "import torch.optim as optim\n",
        "import matplotlib.pyplot as plt\n",
        "\n",
        "print(torch.__version__)"
      ],
      "execution_count": null,
      "outputs": [
        {
          "output_type": "stream",
          "text": [
            "1.9.0+cu102\n"
          ],
          "name": "stdout"
        }
      ]
    },
    {
      "cell_type": "markdown",
      "metadata": {
        "id": "s5xrrdmxVKtW"
      },
      "source": [
        "### Load ALL_IDB data"
      ]
    },
    {
      "cell_type": "code",
      "metadata": {
        "id": "809dE_cTVOAV"
      },
      "source": [
        "dataPath = \"/content/drive/MyDrive/ALL_IDB2/ALL_IDB2/img\"\n",
        "listDir = os.listdir(dataPath)\n",
        "random.shuffle(listDir)"
      ],
      "execution_count": null,
      "outputs": []
    },
    {
      "cell_type": "code",
      "metadata": {
        "colab": {
          "base_uri": "https://localhost:8080/"
        },
        "id": "oOcLc90mVtQJ",
        "outputId": "ed78ed62-1643-4cc8-d388-f342434045b8"
      },
      "source": [
        "len(listDir)"
      ],
      "execution_count": null,
      "outputs": [
        {
          "output_type": "execute_result",
          "data": {
            "text/plain": [
              "260"
            ]
          },
          "metadata": {
            "tags": []
          },
          "execution_count": 64
        }
      ]
    },
    {
      "cell_type": "code",
      "metadata": {
        "id": "6-horAnqVmRL"
      },
      "source": [
        "trainImages = torch.DoubleTensor(200, 3072)\n",
        "trainLabels = torch.DoubleTensor(200)\n",
        "testImages = torch.DoubleTensor(60, 3072)\n",
        "testLabels = torch.DoubleTensor(60)\n",
        "\n",
        "img_no = 0\n",
        "for fname in listDir:\n",
        "  im = Image.open(dataPath+'/'+fname)\n",
        "  im = im.resize((32,32))\n",
        "  im = np.array(im)\n",
        "  im = np.reshape(im, 32*32*3 )\n",
        "  if img_no < 200:\n",
        "    trainImages[img_no] = torch.from_numpy(im)\n",
        "    trainLabels[img_no] = int(listDir[img_no][6:7]) # the label is at the 6th position of the file name\n",
        "  else:\n",
        "    testImages[img_no - 200] = torch.from_numpy(im)\n",
        "    testLabels[img_no - 200] = int(listDir[img_no][6:7])\n",
        "  img_no = img_no + 1"
      ],
      "execution_count": null,
      "outputs": []
    },
    {
      "cell_type": "markdown",
      "metadata": {
        "id": "LttpFNG51XzE"
      },
      "source": [
        "## Viewing one RANDOM Image from the training set"
      ]
    },
    {
      "cell_type": "code",
      "metadata": {
        "colab": {
          "base_uri": "https://localhost:8080/",
          "height": 281
        },
        "id": "2SveeaVwzLUs",
        "outputId": "72a25da2-ff03-4a82-e1fd-dcf73cc15473"
      },
      "source": [
        "# id = int(np.random.randint(0, 200, 1))\n",
        "# arr = trainImages[id].numpy()\n",
        "# label = int(trainLabels[id].numpy())\n",
        "# label_dict ={1:'Leukemic', 0:'Non-leukemic'}\n",
        "# arr = arr.reshape((32,32,3))\n",
        "# arr = arr/255\n",
        "# plt.figure()\n",
        "# plt.title(('Id:{}, Label:- {}={}'.format(id,label,label_dict[label])))\n",
        "# plt.imshow(arr)\n",
        "# plt.show()"
      ],
      "execution_count": null,
      "outputs": [
        {
          "output_type": "display_data",
          "data": {
            "image/png": "[encoded data removed]",
            "text/plain": [
              "<Figure size 432x288 with 1 Axes>"
            ]
          },
          "metadata": {
            "tags": [],
            "needs_background": "light"
          }
        }
      ]
    },
    {
      "cell_type": "code",
      "metadata": {
        "colab": {
          "base_uri": "https://localhost:8080/"
        },
        "id": "gs9Al8-GXuQB",
        "outputId": "a5a0171e-37f6-44f6-fa91-a67976380400"
      },
      "source": [
        "print(trainImages.size())\n",
        "print(trainLabels.size())\n",
        "print(testImages.size())\n",
        "print(testLabels.size())"
      ],
      "execution_count": null,
      "outputs": [
        {
          "output_type": "stream",
          "text": [
            "torch.Size([200, 3072])\n",
            "torch.Size([200])\n",
            "torch.Size([60, 3072])\n",
            "torch.Size([60])\n"
          ],
          "name": "stdout"
        }
      ]
    },
    {
      "cell_type": "markdown",
      "metadata": {
        "id": "rDSZf-K-YknI"
      },
      "source": [
        "### Availability of GPU"
      ]
    },
    {
      "cell_type": "code",
      "metadata": {
        "colab": {
          "base_uri": "https://localhost:8080/"
        },
        "id": "Kxh06URLYFg0",
        "outputId": "18e84c27-8bc2-4829-a5bb-a4cdfe3c41ae"
      },
      "source": [
        "# Checking availability of GPU\n",
        "\n",
        "use_gpu = torch.cuda.is_available()\n",
        "if use_gpu:\n",
        "  print(\"GPU is available!\")\n",
        "  device = 'cuda'\n",
        "else:\n",
        "  print(\"GPU not available!\")\n",
        "  device = 'cpu'"
      ],
      "execution_count": null,
      "outputs": [
        {
          "output_type": "stream",
          "text": [
            "GPU is available!\n"
          ],
          "name": "stdout"
        }
      ]
    },
    {
      "cell_type": "markdown",
      "metadata": {
        "id": "LZRDRRS3Ym-Q"
      },
      "source": [
        "### Define the autoencoder"
      ]
    },
    {
      "cell_type": "code",
      "metadata": {
        "colab": {
          "base_uri": "https://localhost:8080/"
        },
        "id": "7BR-ghQJYrBV",
        "outputId": "1d1746e2-8040-4d4e-8d14-50feda86b819"
      },
      "source": [
        "class autoencoder(nn.Module):\n",
        "  def __init__(self):\n",
        "    super(autoencoder, self).__init__()\n",
        "    self.encoder = nn.Sequential(\n",
        "      nn.Linear(32*32*3, 100),\n",
        "      nn.ReLU(),\n",
        "      nn.Linear(100, 100),\n",
        "      nn.ReLU())\n",
        "    self.decoder = nn.Sequential(\n",
        "      nn.Linear(100, 100),\n",
        "      nn.ReLU(),\n",
        "      nn.Linear(100, 32*32*3),\n",
        "      nn.ReLU())\n",
        "\n",
        "  def forward(self, x):\n",
        "    x = self.encoder(x)\n",
        "    x = self.decoder(x)\n",
        "    return x\n",
        "\n",
        "\n",
        "net = autoencoder()\n",
        "print(net)\n",
        "\n",
        "net = net.double().to(device)\n",
        "\n",
        "for layer in net.children():\n",
        "   if hasattr(layer, 'reset_parameters'):\n",
        "       layer.reset_parameters()\n",
        "init_weights = copy.deepcopy(net.encoder[0].weight.data)"
      ],
      "execution_count": null,
      "outputs": [
        {
          "output_type": "stream",
          "text": [
            "autoencoder(\n",
            "  (encoder): Sequential(\n",
            "    (0): Linear(in_features=3072, out_features=100, bias=True)\n",
            "    (1): ReLU()\n",
            "    (2): Linear(in_features=100, out_features=100, bias=True)\n",
            "    (3): ReLU()\n",
            "  )\n",
            "  (decoder): Sequential(\n",
            "    (0): Linear(in_features=100, out_features=100, bias=True)\n",
            "    (1): ReLU()\n",
            "    (2): Linear(in_features=100, out_features=3072, bias=True)\n",
            "    (3): ReLU()\n",
            "  )\n",
            ")\n"
          ],
          "name": "stdout"
        }
      ]
    },
    {
      "cell_type": "markdown",
      "metadata": {
        "id": "yaCOcMSZhV5t"
      },
      "source": [
        "### Define Optimization Technique"
      ]
    },
    {
      "cell_type": "code",
      "metadata": {
        "id": "3cqh8-cohZDD"
      },
      "source": [
        "criterion = nn.MSELoss()\n",
        "optimizer = optim.SGD(net.parameters(), lr=0.01, momentum=0.9)"
      ],
      "execution_count": null,
      "outputs": []
    },
    {
      "cell_type": "markdown",
      "metadata": {
        "id": "XhPN1gODhkW_"
      },
      "source": [
        "### Train the autoencoder"
      ]
    },
    {
      "cell_type": "code",
      "metadata": {
        "colab": {
          "base_uri": "https://localhost:8080/"
        },
        "id": "W8W7lERhhng0",
        "outputId": "4824cf3a-187f-4a96-fa02-c56a7578094e"
      },
      "source": [
        "iterations = 100\n",
        "batchSize = 10\n",
        "for epoch in range(iterations):\n",
        "  runningLoss = 0\n",
        "  for i in range(int(trainImages.size()[0]/batchSize)):\n",
        "    inputs = torch.index_select(trainImages,0,torch.linspace(i*batchSize,(i+1)*batchSize - 1,steps=batchSize).long()).double()\n",
        "    inputs = inputs/255\n",
        "    inputs = inputs.to(device)\n",
        "    # print(inputs)\n",
        "    optimizer.zero_grad()\n",
        "    outputs = net(inputs)\n",
        "    # print(outputs)\n",
        "    loss = criterion(outputs, inputs)\n",
        "    loss.backward()\n",
        "    optimizer.step()\n",
        "    runningLoss += loss.item()\n",
        "  print(\"At iteration :%d / %d ; Mean Squared Error: %f\"%(epoch+1, iterations, runningLoss/(trainImages.size()[0]/batchSize)))\n",
        "\n",
        "print(\"Finished Training\")"
      ],
      "execution_count": null,
      "outputs": [
        {
          "output_type": "stream",
          "text": [
            "At iteration :1 / 100 ; Mean Squared Error: 0.094239\n",
            "At iteration :2 / 100 ; Mean Squared Error: 0.094237\n",
            "At iteration :3 / 100 ; Mean Squared Error: 0.094235\n",
            "At iteration :4 / 100 ; Mean Squared Error: 0.094234\n",
            "At iteration :5 / 100 ; Mean Squared Error: 0.094233\n",
            "At iteration :6 / 100 ; Mean Squared Error: 0.094232\n",
            "At iteration :7 / 100 ; Mean Squared Error: 0.094231\n",
            "At iteration :8 / 100 ; Mean Squared Error: 0.094231\n",
            "At iteration :9 / 100 ; Mean Squared Error: 0.094230\n",
            "At iteration :10 / 100 ; Mean Squared Error: 0.094230\n",
            "At iteration :11 / 100 ; Mean Squared Error: 0.094229\n",
            "At iteration :12 / 100 ; Mean Squared Error: 0.094229\n",
            "At iteration :13 / 100 ; Mean Squared Error: 0.094228\n",
            "At iteration :14 / 100 ; Mean Squared Error: 0.094228\n",
            "At iteration :15 / 100 ; Mean Squared Error: 0.094228\n",
            "At iteration :16 / 100 ; Mean Squared Error: 0.094227\n",
            "At iteration :17 / 100 ; Mean Squared Error: 0.094227\n",
            "At iteration :18 / 100 ; Mean Squared Error: 0.094227\n",
            "At iteration :19 / 100 ; Mean Squared Error: 0.094227\n",
            "At iteration :20 / 100 ; Mean Squared Error: 0.094227\n",
            "At iteration :21 / 100 ; Mean Squared Error: 0.094226\n",
            "At iteration :22 / 100 ; Mean Squared Error: 0.094226\n",
            "At iteration :23 / 100 ; Mean Squared Error: 0.094226\n",
            "At iteration :24 / 100 ; Mean Squared Error: 0.094226\n",
            "At iteration :25 / 100 ; Mean Squared Error: 0.094226\n",
            "At iteration :26 / 100 ; Mean Squared Error: 0.094226\n",
            "At iteration :27 / 100 ; Mean Squared Error: 0.094226\n",
            "At iteration :28 / 100 ; Mean Squared Error: 0.094226\n",
            "At iteration :29 / 100 ; Mean Squared Error: 0.094226\n",
            "At iteration :30 / 100 ; Mean Squared Error: 0.094226\n",
            "At iteration :31 / 100 ; Mean Squared Error: 0.094225\n",
            "At iteration :32 / 100 ; Mean Squared Error: 0.094225\n",
            "At iteration :33 / 100 ; Mean Squared Error: 0.094225\n",
            "At iteration :34 / 100 ; Mean Squared Error: 0.094225\n",
            "At iteration :35 / 100 ; Mean Squared Error: 0.094225\n",
            "At iteration :36 / 100 ; Mean Squared Error: 0.094225\n",
            "At iteration :37 / 100 ; Mean Squared Error: 0.094225\n",
            "At iteration :38 / 100 ; Mean Squared Error: 0.094225\n",
            "At iteration :39 / 100 ; Mean Squared Error: 0.094225\n",
            "At iteration :40 / 100 ; Mean Squared Error: 0.094225\n",
            "At iteration :41 / 100 ; Mean Squared Error: 0.094225\n",
            "At iteration :42 / 100 ; Mean Squared Error: 0.094225\n",
            "At iteration :43 / 100 ; Mean Squared Error: 0.094225\n",
            "At iteration :44 / 100 ; Mean Squared Error: 0.094225\n",
            "At iteration :45 / 100 ; Mean Squared Error: 0.094225\n",
            "At iteration :46 / 100 ; Mean Squared Error: 0.094225\n",
            "At iteration :47 / 100 ; Mean Squared Error: 0.094225\n",
            "At iteration :48 / 100 ; Mean Squared Error: 0.094225\n",
            "At iteration :49 / 100 ; Mean Squared Error: 0.094225\n",
            "At iteration :50 / 100 ; Mean Squared Error: 0.094225\n",
            "At iteration :51 / 100 ; Mean Squared Error: 0.094225\n",
            "At iteration :52 / 100 ; Mean Squared Error: 0.094225\n",
            "At iteration :53 / 100 ; Mean Squared Error: 0.094225\n",
            "At iteration :54 / 100 ; Mean Squared Error: 0.094224\n",
            "At iteration :55 / 100 ; Mean Squared Error: 0.094224\n",
            "At iteration :56 / 100 ; Mean Squared Error: 0.094224\n",
            "At iteration :57 / 100 ; Mean Squared Error: 0.094224\n",
            "At iteration :58 / 100 ; Mean Squared Error: 0.094224\n",
            "At iteration :59 / 100 ; Mean Squared Error: 0.094224\n",
            "At iteration :60 / 100 ; Mean Squared Error: 0.094224\n",
            "At iteration :61 / 100 ; Mean Squared Error: 0.094224\n",
            "At iteration :62 / 100 ; Mean Squared Error: 0.094224\n",
            "At iteration :63 / 100 ; Mean Squared Error: 0.094224\n",
            "At iteration :64 / 100 ; Mean Squared Error: 0.094224\n",
            "At iteration :65 / 100 ; Mean Squared Error: 0.094224\n",
            "At iteration :66 / 100 ; Mean Squared Error: 0.094224\n",
            "At iteration :67 / 100 ; Mean Squared Error: 0.094224\n",
            "At iteration :68 / 100 ; Mean Squared Error: 0.094224\n",
            "At iteration :69 / 100 ; Mean Squared Error: 0.094224\n",
            "At iteration :70 / 100 ; Mean Squared Error: 0.094224\n",
            "At iteration :71 / 100 ; Mean Squared Error: 0.094224\n",
            "At iteration :72 / 100 ; Mean Squared Error: 0.094224\n",
            "At iteration :73 / 100 ; Mean Squared Error: 0.094224\n",
            "At iteration :74 / 100 ; Mean Squared Error: 0.094224\n",
            "At iteration :75 / 100 ; Mean Squared Error: 0.094224\n",
            "At iteration :76 / 100 ; Mean Squared Error: 0.094224\n",
            "At iteration :77 / 100 ; Mean Squared Error: 0.094224\n",
            "At iteration :78 / 100 ; Mean Squared Error: 0.094224\n",
            "At iteration :79 / 100 ; Mean Squared Error: 0.094224\n",
            "At iteration :80 / 100 ; Mean Squared Error: 0.094224\n",
            "At iteration :81 / 100 ; Mean Squared Error: 0.094224\n",
            "At iteration :82 / 100 ; Mean Squared Error: 0.094224\n",
            "At iteration :83 / 100 ; Mean Squared Error: 0.094224\n",
            "At iteration :84 / 100 ; Mean Squared Error: 0.094223\n",
            "At iteration :85 / 100 ; Mean Squared Error: 0.094223\n",
            "At iteration :86 / 100 ; Mean Squared Error: 0.094223\n",
            "At iteration :87 / 100 ; Mean Squared Error: 0.094223\n",
            "At iteration :88 / 100 ; Mean Squared Error: 0.094223\n",
            "At iteration :89 / 100 ; Mean Squared Error: 0.094223\n",
            "At iteration :90 / 100 ; Mean Squared Error: 0.094223\n",
            "At iteration :91 / 100 ; Mean Squared Error: 0.094223\n",
            "At iteration :92 / 100 ; Mean Squared Error: 0.094223\n",
            "At iteration :93 / 100 ; Mean Squared Error: 0.094223\n",
            "At iteration :94 / 100 ; Mean Squared Error: 0.094223\n",
            "At iteration :95 / 100 ; Mean Squared Error: 0.094223\n",
            "At iteration :96 / 100 ; Mean Squared Error: 0.094223\n",
            "At iteration :97 / 100 ; Mean Squared Error: 0.094223\n",
            "At iteration :98 / 100 ; Mean Squared Error: 0.094223\n",
            "At iteration :99 / 100 ; Mean Squared Error: 0.094223\n",
            "At iteration :100 / 100 ; Mean Squared Error: 0.094223\n",
            "Finished Training\n"
          ],
          "name": "stdout"
        }
      ]
    },
    {
      "cell_type": "markdown",
      "metadata": {
        "id": "6Gl5Qk5gkfwx"
      },
      "source": [
        "### Encoder Weights Visualization"
      ]
    },
    {
      "cell_type": "code",
      "metadata": {
        "colab": {
          "base_uri": "https://localhost:8080/",
          "height": 162
        },
        "id": "G411CZ9skis2",
        "outputId": "c58f3d94-ad9f-4a70-9da5-797ace781885"
      },
      "source": [
        "trained_weights = copy.deepcopy(net.encoder[0].weight.data)\n",
        "init_weights = (1 + init_weights)*127.5\n",
        "trained_weights = (1 + trained_weights)*127.5\n",
        "\n",
        "init_weights = init_weights.view(3, 320, 320).byte()\n",
        "trained_weights = trained_weights.view(3, 320, 320).byte()\n",
        "\n",
        "if device == 'cuda':\n",
        "  init_weights = init_weights.cpu()\n",
        "  trained_weights = trained_weights.cpu()\n",
        "d_weights  = init_weights - trained_weights\n",
        "\n",
        "fig = plt.figure()\n",
        "plot = fig.add_subplot(1, 3, 1)\n",
        "img = np.array(init_weights.numpy())[0]\n",
        "plot.set_title(\"Initial Weights\")\n",
        "imgplot = plt.imshow(img)\n",
        "\n",
        "plot = fig.add_subplot(1, 3, 2)\n",
        "img = np.array(trained_weights.numpy())[0]\n",
        "plot.set_title(\"Trained Weights\")\n",
        "imgplot = plt.imshow(img)\n",
        "\n",
        "plot = fig.add_subplot(1, 3, 3)\n",
        "img = np.array(d_weights.numpy())[0]\n",
        "plot.set_title(\"Update Weights\")\n",
        "imgplot = plt.imshow(img)\n",
        "\n",
        "plt.show()\n"
      ],
      "execution_count": null,
      "outputs": [
        {
          "output_type": "display_data",
          "data": {
            "image/png": "[encoded data removed]",
            "text/plain": [
              "<Figure size 432x288 with 3 Axes>"
            ]
          },
          "metadata": {
            "tags": [],
            "needs_background": "light"
          }
        }
      ]
    },
    {
      "cell_type": "markdown",
      "metadata": {
        "id": "hdIuHyfg5oMv"
      },
      "source": [
        "### Change the decoder part to a classifier"
      ]
    },
    {
      "cell_type": "code",
      "metadata": {
        "colab": {
          "base_uri": "https://localhost:8080/"
        },
        "id": "QWN8glEs5nx5",
        "outputId": "0b214b66-4d0a-4621-c322-3b241e548d9b"
      },
      "source": [
        "new_classifier = nn.Sequential(*list(net.children())[:-1]) # removes the decoder\n",
        "# print(new_classifier)\n",
        "net = new_classifier\n",
        "net.add_module('classifier', nn.Sequential(nn.Linear(100,2), nn.LogSoftmax(dim=1)))\n",
        "\n",
        "net = net.double().to(device)\n",
        "cll_weights = copy.deepcopy(net[0][0].weight.data)\n",
        "init_classifier_weights = copy.deepcopy(net.classifier[0].weight.data)\n",
        "print(net)\n",
        "print(cll_weights.shape, init_classifier_weights.shape)"
      ],
      "execution_count": null,
      "outputs": [
        {
          "output_type": "stream",
          "text": [
            "Sequential(\n",
            "  (0): Sequential(\n",
            "    (0): Linear(in_features=3072, out_features=100, bias=True)\n",
            "    (1): ReLU()\n",
            "    (2): Linear(in_features=100, out_features=100, bias=True)\n",
            "    (3): ReLU()\n",
            "  )\n",
            "  (classifier): Sequential(\n",
            "    (0): Linear(in_features=100, out_features=2, bias=True)\n",
            "    (1): LogSoftmax(dim=1)\n",
            "  )\n",
            ")\n",
            "torch.Size([100, 3072]) torch.Size([2, 100])\n"
          ],
          "name": "stdout"
        }
      ]
    },
    {
      "cell_type": "markdown",
      "metadata": {
        "id": "tsqBMUy7FdRf"
      },
      "source": [
        "### Defining the Loss and Optimizer function"
      ]
    },
    {
      "cell_type": "code",
      "metadata": {
        "id": "HvSW_w1yFc1s"
      },
      "source": [
        "criterion = nn.NLLLoss()\n",
        "optimizer = optim.SGD(net.parameters(), lr = 0.001, momentum = 0.9)"
      ],
      "execution_count": null,
      "outputs": []
    },
    {
      "cell_type": "code",
      "metadata": {
        "colab": {
          "base_uri": "https://localhost:8080/"
        },
        "id": "gKF-g3Pd95GH",
        "outputId": "63dc1427-3ea9-4aba-bd58-b428db883b4c"
      },
      "source": [
        "iterations = 100\n",
        "batchSize = 10\n",
        "for epoch in range(iterations):\n",
        "    runningLoss = 0\n",
        "    for i in range(int(trainImages.size()[0]/batchSize)):\n",
        "        inputs = torch.index_select(trainImages,0,torch.linspace(i*batchSize,(i+1)*batchSize - 1,steps=batchSize)\n",
        "                                  .long()).double()\n",
        "        labels = torch.index_select(trainLabels,0,torch.linspace(i*batchSize,(i+1)*batchSize - 1,steps=batchSize)\n",
        "                                  .long()).long()\n",
        "        inputs = inputs/255\n",
        "        inputs, labels = inputs.to(device), labels.to(device)\n",
        "\n",
        "        optimizer.zero_grad()\n",
        "        outputs = net(inputs)\n",
        "        loss = criterion(outputs, labels)\n",
        "        loss.backward()\n",
        "        optimizer.step()\n",
        "        runningLoss += loss.item()\n",
        "\n",
        "    inputs = testImages.double()/255\n",
        "    inputs = inputs.to(device)\n",
        "    outputs = net(inputs)\n",
        "    _, predicted = torch.max(outputs.data, 1)\n",
        "    if use_gpu:\n",
        "        predicted = predicted.cpu()\n",
        "    correct = 0\n",
        "    total = 0\n",
        "    total += testLabels.size(0)\n",
        "    correct += (predicted == testLabels).sum()\n",
        "    print('At Iteration: %d / %d  ;  Training Loss: %f ; Testing Acc: %f '%(epoch + 1,iterations,runningLoss/\n",
        "                                                                            (trainImages.size()[0]/\n",
        "                                                                             batchSize),(100 * correct/ float(total))))\n",
        "print('Finished Training')\n",
        "\n",
        ""
      ],
      "execution_count": null,
      "outputs": [
        {
          "output_type": "stream",
          "text": [
            "At Iteration: 1 / 100  ;  Training Loss: 0.025009 ; Testing Acc: 83.333336 \n",
            "At Iteration: 2 / 100  ;  Training Loss: 0.029940 ; Testing Acc: 83.333336 \n",
            "At Iteration: 3 / 100  ;  Training Loss: 0.014356 ; Testing Acc: 80.000000 \n",
            "At Iteration: 4 / 100  ;  Training Loss: 0.059784 ; Testing Acc: 83.333336 \n",
            "At Iteration: 5 / 100  ;  Training Loss: 0.015685 ; Testing Acc: 83.333336 \n",
            "At Iteration: 6 / 100  ;  Training Loss: 0.026147 ; Testing Acc: 83.333336 \n",
            "At Iteration: 7 / 100  ;  Training Loss: 0.012106 ; Testing Acc: 78.333336 \n",
            "At Iteration: 8 / 100  ;  Training Loss: 0.025928 ; Testing Acc: 85.000000 \n",
            "At Iteration: 9 / 100  ;  Training Loss: 0.016646 ; Testing Acc: 83.333336 \n",
            "At Iteration: 10 / 100  ;  Training Loss: 0.011894 ; Testing Acc: 83.333336 \n",
            "At Iteration: 11 / 100  ;  Training Loss: 0.025271 ; Testing Acc: 83.333336 \n",
            "At Iteration: 12 / 100  ;  Training Loss: 0.014716 ; Testing Acc: 81.666664 \n",
            "At Iteration: 13 / 100  ;  Training Loss: 0.026805 ; Testing Acc: 83.333336 \n",
            "At Iteration: 14 / 100  ;  Training Loss: 0.015541 ; Testing Acc: 83.333336 \n",
            "At Iteration: 15 / 100  ;  Training Loss: 0.036784 ; Testing Acc: 80.000000 \n",
            "At Iteration: 16 / 100  ;  Training Loss: 0.034840 ; Testing Acc: 81.666664 \n",
            "At Iteration: 17 / 100  ;  Training Loss: 0.014601 ; Testing Acc: 81.666664 \n",
            "At Iteration: 18 / 100  ;  Training Loss: 0.029066 ; Testing Acc: 83.333336 \n",
            "At Iteration: 19 / 100  ;  Training Loss: 0.051375 ; Testing Acc: 80.000000 \n",
            "At Iteration: 20 / 100  ;  Training Loss: 0.053358 ; Testing Acc: 80.000000 \n",
            "At Iteration: 21 / 100  ;  Training Loss: 0.060525 ; Testing Acc: 78.333336 \n",
            "At Iteration: 22 / 100  ;  Training Loss: 0.047545 ; Testing Acc: 78.333336 \n",
            "At Iteration: 23 / 100  ;  Training Loss: 0.036014 ; Testing Acc: 83.333336 \n",
            "At Iteration: 24 / 100  ;  Training Loss: 0.066969 ; Testing Acc: 83.333336 \n",
            "At Iteration: 25 / 100  ;  Training Loss: 0.017575 ; Testing Acc: 83.333336 \n",
            "At Iteration: 26 / 100  ;  Training Loss: 0.014687 ; Testing Acc: 83.333336 \n",
            "At Iteration: 27 / 100  ;  Training Loss: 0.009726 ; Testing Acc: 83.333336 \n",
            "At Iteration: 28 / 100  ;  Training Loss: 0.012267 ; Testing Acc: 83.333336 \n",
            "At Iteration: 29 / 100  ;  Training Loss: 0.010980 ; Testing Acc: 85.000000 \n",
            "At Iteration: 30 / 100  ;  Training Loss: 0.010125 ; Testing Acc: 83.333336 \n",
            "At Iteration: 31 / 100  ;  Training Loss: 0.038683 ; Testing Acc: 83.333336 \n",
            "At Iteration: 32 / 100  ;  Training Loss: 0.039286 ; Testing Acc: 80.000000 \n",
            "At Iteration: 33 / 100  ;  Training Loss: 0.043996 ; Testing Acc: 85.000000 \n",
            "At Iteration: 34 / 100  ;  Training Loss: 0.077941 ; Testing Acc: 80.000000 \n",
            "At Iteration: 35 / 100  ;  Training Loss: 0.050129 ; Testing Acc: 81.666664 \n",
            "At Iteration: 36 / 100  ;  Training Loss: 0.076996 ; Testing Acc: 80.000000 \n",
            "At Iteration: 37 / 100  ;  Training Loss: 0.022461 ; Testing Acc: 81.666664 \n",
            "At Iteration: 38 / 100  ;  Training Loss: 0.022817 ; Testing Acc: 85.000000 \n",
            "At Iteration: 39 / 100  ;  Training Loss: 0.013333 ; Testing Acc: 85.000000 \n",
            "At Iteration: 40 / 100  ;  Training Loss: 0.014040 ; Testing Acc: 83.333336 \n",
            "At Iteration: 41 / 100  ;  Training Loss: 0.011734 ; Testing Acc: 83.333336 \n",
            "At Iteration: 42 / 100  ;  Training Loss: 0.013180 ; Testing Acc: 85.000000 \n",
            "At Iteration: 43 / 100  ;  Training Loss: 0.013372 ; Testing Acc: 85.000000 \n",
            "At Iteration: 44 / 100  ;  Training Loss: 0.016747 ; Testing Acc: 83.333336 \n",
            "At Iteration: 45 / 100  ;  Training Loss: 0.022003 ; Testing Acc: 80.000000 \n",
            "At Iteration: 46 / 100  ;  Training Loss: 0.019102 ; Testing Acc: 85.000000 \n",
            "At Iteration: 47 / 100  ;  Training Loss: 0.011335 ; Testing Acc: 85.000000 \n",
            "At Iteration: 48 / 100  ;  Training Loss: 0.015081 ; Testing Acc: 81.666664 \n",
            "At Iteration: 49 / 100  ;  Training Loss: 0.015484 ; Testing Acc: 83.333336 \n",
            "At Iteration: 50 / 100  ;  Training Loss: 0.010963 ; Testing Acc: 81.666664 \n",
            "At Iteration: 51 / 100  ;  Training Loss: 0.016422 ; Testing Acc: 85.000000 \n",
            "At Iteration: 52 / 100  ;  Training Loss: 0.013485 ; Testing Acc: 85.000000 \n",
            "At Iteration: 53 / 100  ;  Training Loss: 0.017421 ; Testing Acc: 85.000000 \n",
            "At Iteration: 54 / 100  ;  Training Loss: 0.016511 ; Testing Acc: 85.000000 \n",
            "At Iteration: 55 / 100  ;  Training Loss: 0.012644 ; Testing Acc: 85.000000 \n",
            "At Iteration: 56 / 100  ;  Training Loss: 0.082017 ; Testing Acc: 81.666664 \n",
            "At Iteration: 57 / 100  ;  Training Loss: 0.031771 ; Testing Acc: 83.333336 \n",
            "At Iteration: 58 / 100  ;  Training Loss: 0.014185 ; Testing Acc: 85.000000 \n",
            "At Iteration: 59 / 100  ;  Training Loss: 0.022696 ; Testing Acc: 83.333336 \n",
            "At Iteration: 60 / 100  ;  Training Loss: 0.015110 ; Testing Acc: 83.333336 \n",
            "At Iteration: 61 / 100  ;  Training Loss: 0.012937 ; Testing Acc: 83.333336 \n",
            "At Iteration: 62 / 100  ;  Training Loss: 0.009945 ; Testing Acc: 78.333336 \n",
            "At Iteration: 63 / 100  ;  Training Loss: 0.017796 ; Testing Acc: 81.666664 \n",
            "At Iteration: 64 / 100  ;  Training Loss: 0.014021 ; Testing Acc: 81.666664 \n",
            "At Iteration: 65 / 100  ;  Training Loss: 0.014707 ; Testing Acc: 83.333336 \n",
            "At Iteration: 66 / 100  ;  Training Loss: 0.021486 ; Testing Acc: 86.666664 \n",
            "At Iteration: 67 / 100  ;  Training Loss: 0.011757 ; Testing Acc: 81.666664 \n",
            "At Iteration: 68 / 100  ;  Training Loss: 0.040125 ; Testing Acc: 75.000000 \n",
            "At Iteration: 69 / 100  ;  Training Loss: 0.062005 ; Testing Acc: 85.000000 \n",
            "At Iteration: 70 / 100  ;  Training Loss: 0.076424 ; Testing Acc: 83.333336 \n",
            "At Iteration: 71 / 100  ;  Training Loss: 0.017325 ; Testing Acc: 86.666664 \n",
            "At Iteration: 72 / 100  ;  Training Loss: 0.037118 ; Testing Acc: 80.000000 \n",
            "At Iteration: 73 / 100  ;  Training Loss: 0.025447 ; Testing Acc: 85.000000 \n",
            "At Iteration: 74 / 100  ;  Training Loss: 0.015383 ; Testing Acc: 83.333336 \n",
            "At Iteration: 75 / 100  ;  Training Loss: 0.036182 ; Testing Acc: 75.000000 \n",
            "At Iteration: 76 / 100  ;  Training Loss: 0.041706 ; Testing Acc: 78.333336 \n",
            "At Iteration: 77 / 100  ;  Training Loss: 0.017476 ; Testing Acc: 80.000000 \n",
            "At Iteration: 78 / 100  ;  Training Loss: 0.025186 ; Testing Acc: 85.000000 \n",
            "At Iteration: 79 / 100  ;  Training Loss: 0.287244 ; Testing Acc: 85.000000 \n",
            "At Iteration: 80 / 100  ;  Training Loss: 0.421593 ; Testing Acc: 61.666668 \n",
            "At Iteration: 81 / 100  ;  Training Loss: 0.194760 ; Testing Acc: 83.333336 \n",
            "At Iteration: 82 / 100  ;  Training Loss: 0.535039 ; Testing Acc: 76.666664 \n",
            "At Iteration: 83 / 100  ;  Training Loss: 1.199150 ; Testing Acc: 71.666664 \n",
            "At Iteration: 84 / 100  ;  Training Loss: 0.754667 ; Testing Acc: 55.000000 \n",
            "At Iteration: 85 / 100  ;  Training Loss: 0.679000 ; Testing Acc: 55.000000 \n",
            "At Iteration: 86 / 100  ;  Training Loss: 0.603861 ; Testing Acc: 55.000000 \n",
            "At Iteration: 87 / 100  ;  Training Loss: 0.532833 ; Testing Acc: 55.000000 \n",
            "At Iteration: 88 / 100  ;  Training Loss: 0.459852 ; Testing Acc: 71.666664 \n",
            "At Iteration: 89 / 100  ;  Training Loss: 0.426512 ; Testing Acc: 71.666664 \n",
            "At Iteration: 90 / 100  ;  Training Loss: 0.420345 ; Testing Acc: 70.000000 \n",
            "At Iteration: 91 / 100  ;  Training Loss: 0.384977 ; Testing Acc: 75.000000 \n",
            "At Iteration: 92 / 100  ;  Training Loss: 0.353643 ; Testing Acc: 73.333336 \n",
            "At Iteration: 93 / 100  ;  Training Loss: 0.318548 ; Testing Acc: 78.333336 \n",
            "At Iteration: 94 / 100  ;  Training Loss: 0.309914 ; Testing Acc: 76.666664 \n",
            "At Iteration: 95 / 100  ;  Training Loss: 0.259999 ; Testing Acc: 81.666664 \n",
            "At Iteration: 96 / 100  ;  Training Loss: 0.250083 ; Testing Acc: 80.000000 \n",
            "At Iteration: 97 / 100  ;  Training Loss: 0.228956 ; Testing Acc: 80.000000 \n",
            "At Iteration: 98 / 100  ;  Training Loss: 0.210288 ; Testing Acc: 83.333336 \n",
            "At Iteration: 99 / 100  ;  Training Loss: 0.200575 ; Testing Acc: 83.333336 \n",
            "At Iteration: 100 / 100  ;  Training Loss: 0.187944 ; Testing Acc: 83.333336 \n",
            "Finished Training\n"
          ],
          "name": "stdout"
        }
      ]
    },
    {
      "cell_type": "markdown",
      "metadata": {
        "id": "Gk8j_2gtCV93"
      },
      "source": [
        "### Visualize the Encoder Weights"
      ]
    },
    {
      "cell_type": "code",
      "metadata": {
        "colab": {
          "base_uri": "https://localhost:8080/",
          "height": 180
        },
        "id": "4uMv3VDLCZ12",
        "outputId": "e7f4991a-9541-46fc-f5cb-bb6704fa19b0"
      },
      "source": [
        "cll_weights_ft = copy.deepcopy(net[0][0].weight.data)\n",
        "cll_weights = (1 + cll_weights)*127.5\n",
        "cll_weights_ft = (1 + cll_weights_ft)*127.5\n",
        "print(cll_weights_ft.shape, cll_weights.shape)\n",
        "cll_weights = cll_weights.view(3, 320, 320).byte()\n",
        "cll_weights_ft = cll_weights_ft.view(3, 320, 320).byte()\n",
        "if use_gpu:\n",
        "  cll_weights = cll_weights.cpu()\n",
        "  cll_weights_ft = cll_weights_ft.cpu()\n",
        "d_weights = cll_weights_ft - cll_weights\n",
        "\n",
        "# plotting the weights\n",
        "fig = plt.figure()\n",
        "plot = fig.add_subplot(1, 3, 1)\n",
        "img =np.array(cll_weights.numpy())[0]\n",
        "plot.set_title(\"Encoder Weights\")\n",
        "imgplot = plt.imshow(img)\n",
        "\n",
        "plot = fig.add_subplot(1, 3, 2)\n",
        "img =np.array(cll_weights_ft.numpy())[0]\n",
        "plot.set_title(\"Trained Weights\")\n",
        "imgplot = plt.imshow(img)\n",
        "\n",
        "plot = fig.add_subplot(1, 3, 3)\n",
        "img =np.array(d_weights.numpy())[0]\n",
        "plot.set_title(\"Weight Update\")\n",
        "imgplot = plt.imshow(img)\n",
        "plt.show()\n",
        "\n"
      ],
      "execution_count": null,
      "outputs": [
        {
          "output_type": "stream",
          "text": [
            "torch.Size([100, 3072]) torch.Size([100, 3072])\n"
          ],
          "name": "stdout"
        },
        {
          "output_type": "display_data",
          "data": {
            "image/png": "[encoded data removed]",
            "text/plain": [
              "<Figure size 432x288 with 3 Axes>"
            ]
          },
          "metadata": {
            "tags": [],
            "needs_background": "light"
          }
        }
      ]
    },
    {
      "cell_type": "markdown",
      "metadata": {
        "id": "Hb3ckbInHIty"
      },
      "source": [
        "### Classifier Weights Visualization"
      ]
    },
    {
      "cell_type": "code",
      "metadata": {
        "colab": {
          "base_uri": "https://localhost:8080/",
          "height": 261
        },
        "id": "uy2LN3fRHITs",
        "outputId": "03c64c85-20a8-40ad-8d15-6c8ecd9575b1"
      },
      "source": [
        "trained_classifier_weights = copy.deepcopy(net.classifier[0].weight.data)\n",
        "init_classifier_weights = (1+ init_classifier_weights)*127.5\n",
        "trained_classifier_weights = (1 + trained_classifier_weights)*127.5\n",
        "\n",
        "init_classifier_weights = init_classifier_weights.view(-1, 20, 10).byte()\n",
        "trained_classifier_weights = trained_classifier_weights.view(-1, 20, 10).byte()\n",
        "\n",
        "if use_gpu:\n",
        "  init_classifier_weights = init_classifier_weights.cpu()\n",
        "  trained_classifier_weights = trained_classifier_weights.cpu()\n",
        "\n",
        "d_weights = init_classifier_weights - trained_classifier_weights\n",
        "\n",
        "fig = plt.figure()\n",
        "plot = fig.add_subplot(1, 3, 1)\n",
        "img = np.array(init_classifier_weights.numpy())[0]\n",
        "plot.set_title('Initial weights')\n",
        "plt.imshow(img)\n",
        "\n",
        "plot = fig.add_subplot(1, 3, 2)\n",
        "img = np.array(trained_classifier_weights.numpy())[0]\n",
        "plot.set_title('Trained weights')\n",
        "plt.imshow(img)\n",
        "\n",
        "plot = fig.add_subplot(1, 3, 3)\n",
        "img = np.array(d_weights.numpy())[0]\n",
        "plot.set_title('Weights Update')\n",
        "plt.imshow(img)\n",
        "plt.show()\n"
      ],
      "execution_count": null,
      "outputs": [
        {
          "output_type": "display_data",
          "data": {
            "image/png": "[encoded data removed]",
            "text/plain": [
              "<Figure size 432x288 with 3 Axes>"
            ]
          },
          "metadata": {
            "tags": [],
            "needs_background": "light"
          }
        }
      ]
    }
  ]
}